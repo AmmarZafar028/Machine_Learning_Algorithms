{
 "cells": [
  {
   "cell_type": "code",
   "execution_count": 2,
   "metadata": {},
   "outputs": [],
   "source": [
    "import pandas as pd\n",
    "import numpy as np\n",
    "import seaborn as sns\n",
    "import matplotlib.pyplot as plt\n",
    "import scipy.stats as stats"
   ]
  },
  {
   "cell_type": "markdown",
   "metadata": {},
   "source": [
    "## Levene\"s Test"
   ]
  },
  {
   "cell_type": "code",
   "execution_count": 4,
   "metadata": {},
   "outputs": [
    {
     "data": {
      "text/plain": [
       "LeveneResult(statistic=0.17981072555205047, pvalue=0.8364205218185946)"
      ]
     },
     "execution_count": 4,
     "metadata": {},
     "output_type": "execute_result"
    }
   ],
   "source": [
    "group1 = [7, 14, 14, 13, 12, 9, 6, 14, 12, 8]\n",
    "group2 = [15, 17, 13, 15, 15, 13, 9, 12, 10, 8]\n",
    "group3 = [6, 8, 8, 9, 5, 14, 13, 8, 10, 9]\n",
    "\n",
    "# Levene\"s test centered at the median\n",
    "stats.levene(group1,group2,group3,center=\"median\")\n"
   ]
  },
  {
   "cell_type": "code",
   "execution_count": 5,
   "metadata": {},
   "outputs": [
    {
     "data": {
      "text/plain": [
       "LeveneResult(statistic=0.5357011635027553, pvalue=0.5913510184735677)"
      ]
     },
     "execution_count": 5,
     "metadata": {},
     "output_type": "execute_result"
    }
   ],
   "source": [
    "group1 = [7, 14, 14, 13, 12, 9, 6, 14, 12, 8]\n",
    "group2 = [15, 17, 13, 15, 15, 13, 9, 12, 10, 8]\n",
    "group3 = [6, 8, 8, 9, 5, 14, 13, 8, 10, 9]\n",
    "\n",
    "# Levene\"s test centered at the median\n",
    "stats.levene(group1,group2,group3,center=\"mean\")\n"
   ]
  },
  {
   "cell_type": "code",
   "execution_count": 6,
   "metadata": {},
   "outputs": [
    {
     "data": {
      "text/plain": [
       "LeveneResult(statistic=0.535701163502756, pvalue=0.5913510184735677)"
      ]
     },
     "execution_count": 6,
     "metadata": {},
     "output_type": "execute_result"
    }
   ],
   "source": [
    "group1 = [7, 14, 14, 13, 12, 9, 6, 14, 12, 8]\n",
    "group2 = [15, 17, 13, 15, 15, 13, 9, 12, 10, 8]\n",
    "group3 = [6, 8, 8, 9, 5, 14, 13, 8, 10, 9]\n",
    "\n",
    "# Levene\"s test centered at the median\n",
    "stats.levene(group1,group2,group3,center=\"trimmed\")\n"
   ]
  },
  {
   "cell_type": "markdown",
   "metadata": {},
   "source": [
    "## Shapiro Wilk Test"
   ]
  },
  {
   "cell_type": "code",
   "execution_count": 8,
   "metadata": {},
   "outputs": [
    {
     "name": "stdout",
     "output_type": "stream",
     "text": [
      "The Test-Statistic and p-value are as follows:\n",
      "Test-Statistic = 0.990 , p-value = 0.345\n"
     ]
    }
   ],
   "source": [
    "#import modules\n",
    "from scipy.stats import shapiro\n",
    "# Using seed function to generate the same random number every time with the given seed value \n",
    "np.random.seed(0)\n",
    "#generate sample of 150 values that follow a normal distribution with mean =0 and standard deviation=1\n",
    "mean1 = 0\n",
    "sd1 = 1\n",
    "data = np.random.normal(mean1,sd1,150)\n",
    "#perform Shapiro-Wilk test\n",
    "stat,p = shapiro(data)\n",
    "print(\"The Test-Statistic and p-value are as follows:\\nTest-Statistic = %.3f , p-value = %.3f\"%(stat,p))\n",
    "\n"
   ]
  },
  {
   "cell_type": "code",
   "execution_count": 9,
   "metadata": {},
   "outputs": [
    {
     "name": "stdout",
     "output_type": "stream",
     "text": [
      "The Test-Statistic and p-value are as follows:\n",
      "Test-Statistic = 0.971 , p-value = 0.026\n"
     ]
    }
   ],
   "source": [
    "#import Library\n",
    "from scipy.stats import shapiro\n",
    "# Using seed function to generate the same random number every time with the given seed value \n",
    "np.random.seed(1)\n",
    "#generate sample of 100 values that follow a Poisson Distribution with mean =6\n",
    "mean1 = 6\n",
    "data = np.random.poisson(mean1,100)\n",
    "#perform Shapiro-Wilk test\n",
    "stat,p = shapiro(data)\n",
    "print(\"The Test-Statistic and p-value are as follows:\\nTest-Statistic = %.3f , p-value = %.3f\"%(stat,p))"
   ]
  },
  {
   "cell_type": "code",
   "execution_count": 11,
   "metadata": {},
   "outputs": [
    {
     "data": {
      "image/png": "[encoded data removed]",
      "text/plain": [
       "<Figure size 432x288 with 1 Axes>"
      ]
     },
     "metadata": {
      "needs_background": "light"
     },
     "output_type": "display_data"
    }
   ],
   "source": [
    "\n",
    "# Using seed function to generate the same random number every time with the given seed value \n",
    "np.random.seed(1)\n",
    "#generate sample of 100 values that follow a Poisson Distribution with mean =6\n",
    "mean = 6\n",
    "data = np.random.poisson(mean,100)\n",
    "#plot the histogram\n",
    "count, bins, ignored = plt.hist(data, 30)\n",
    "plt.show()"
   ]
  },
  {
   "cell_type": "markdown",
   "metadata": {},
   "source": [
    "## One Sample t-test"
   ]
  },
  {
   "cell_type": "code",
   "execution_count": 12,
   "metadata": {},
   "outputs": [
    {
     "data": {
      "text/plain": [
       "Ttest_1sampResult(statistic=-1.6848470783484626, pvalue=0.12014460742498101)"
      ]
     },
     "execution_count": 12,
     "metadata": {},
     "output_type": "execute_result"
    }
   ],
   "source": [
    "data = [14, 14, 16, 13, 12, 17, 15, 14, 15, 13, 15, 14]\n",
    "# perform one sample t-test\n",
    "stats.ttest_1samp(a=data,popmean=15)"
   ]
  },
  {
   "cell_type": "markdown",
   "metadata": {},
   "source": [
    "## One Sample Z-Test"
   ]
  },
  {
   "cell_type": "code",
   "execution_count": 8,
   "metadata": {},
   "outputs": [
    {
     "data": {
      "text/plain": [
       "(1.5976240527147705, 0.1101266701438426)"
      ]
     },
     "execution_count": 8,
     "metadata": {},
     "output_type": "execute_result"
    }
   ],
   "source": [
    "from statsmodels.stats.weightstats import ztest as ztest\n",
    "data = [88, 92, 94, 94, 96, 97, 97, 97, 99, 99,\n",
    "105, 109, 109, 109, 110, 112, 112, 113, 114, 115]\n",
    "# Perform one sampe Z-test\n",
    "ztest(data,value=100)\n"
   ]
  },
  {
   "cell_type": "markdown",
   "metadata": {},
   "source": [
    "## Two Sample Z-test"
   ]
  },
  {
   "cell_type": "code",
   "execution_count": 13,
   "metadata": {},
   "outputs": [
    {
     "data": {
      "text/plain": [
       "(-1.9953236073282115, 0.046007596761332065)"
      ]
     },
     "execution_count": 13,
     "metadata": {},
     "output_type": "execute_result"
    }
   ],
   "source": [
    "Data1 = [82, 84, 85, 89, 91, 91, 92, 94, 99, 99,\n",
    "105, 109, 109, 109, 110, 112, 112, 113, 114, 114]\n",
    "\n",
    "Data2 = [90, 91, 91, 91, 95, 95, 99, 99, 108, 109,\n",
    "109, 114, 115, 116, 117, 117, 128, 129, 130, 133]\n",
    "# Perform two sample z-test\n",
    "ztest(Data1,Data2,value=0)"
   ]
  },
  {
   "cell_type": "markdown",
   "metadata": {},
   "source": [
    "## Two sample T-test"
   ]
  },
  {
   "cell_type": "code",
   "execution_count": 18,
   "metadata": {},
   "outputs": [
    {
     "name": "stdout",
     "output_type": "stream",
     "text": [
      "7.727500000000001 12.260000000000002\n"
     ]
    },
    {
     "data": {
      "text/plain": [
       "Ttest_indResult(statistic=-0.6337397070250238, pvalue=0.5300471010405257)"
      ]
     },
     "execution_count": 18,
     "metadata": {},
     "output_type": "execute_result"
    }
   ],
   "source": [
    "import numpy as np\n",
    "group1 = np.array([14, 15, 15, 16, 13, 8, 14, 17, 16, 14, 19, 20, 21, 15, 15, 16, 16, 13, 14, 12])\n",
    "group2 = np.array([15, 17, 14, 17, 14, 8, 12, 19, 19, 14, 17, 22, 24, 16, 13, 16, 13, 18, 15, 13])\n",
    "# find variance for each data\n",
    "print(np.var(group1),np.var(group2))\n",
    "\n",
    "## perform two t-test with equal variances\n",
    "import scipy.stats as stats\n",
    "stats.ttest_ind(group1,group2,equal_var=True)\n",
    "\n"
   ]
  },
  {
   "cell_type": "markdown",
   "metadata": {},
   "source": [
    "## Paired Sample T-test\n"
   ]
  },
  {
   "cell_type": "code",
   "execution_count": 19,
   "metadata": {},
   "outputs": [
    {
     "data": {
      "text/plain": [
       "Ttest_relResult(statistic=-2.9732484231168796, pvalue=0.01007144862643272)"
      ]
     },
     "execution_count": 19,
     "metadata": {},
     "output_type": "execute_result"
    }
   ],
   "source": [
    "import scipy.stats as stats\n",
    "pre = [88, 82, 84, 93, 75, 78, 84, 87, 95, 91, 83, 89, 77, 68, 91]\n",
    "post = [91, 84, 88, 90, 79, 80, 88, 90, 90, 96, 88, 89, 81, 74, 92]\n",
    "\n",
    "# Performed the paired samples t-test\n",
    "stats.ttest_rel(pre,post)\n",
    "#Ho:The mean pre-test and post-test scores are equal\n",
    "#HA:The mean pre-test and post-test scores are not equal\n",
    "#Since the p-value (0.0101) is less than 0.05, \n",
    "# we reject the null hypothesis. \n",
    "# We have sufficient evidence to say that the true mean test score is different for students \n",
    "# before and after participating in the study program."
   ]
  },
  {
   "cell_type": "markdown",
   "metadata": {},
   "source": [
    "## Welch\"s Test"
   ]
  },
  {
   "cell_type": "code",
   "execution_count": 21,
   "metadata": {},
   "outputs": [
    {
     "data": {
      "text/plain": [
       "Ttest_indResult(statistic=2.236067977499793, pvalue=0.041709795032077744)"
      ]
     },
     "execution_count": 21,
     "metadata": {},
     "output_type": "execute_result"
    }
   ],
   "source": [
    "from scipy import stats\n",
    "booklet1 = [90, 85, 88, 89, 94, 91, 79, 83, 87, 88, 91, 90]\n",
    "booklet2 =[67, 90, 71, 95, 88, 83, 72, 66, 75, 86, 93, 84]\n",
    "\n",
    "#perform welche\"s test\n",
    "stats.ttest_ind(booklet1,booklet2,equal_var=False)\n",
    "#The test statistic turns out to be 2.2361 and the corresponding p-value is 0.0417.\n",
    "\n",
    "#Since this p-value is less than .05, we can reject the null hypothesis of the test \n",
    "# and conclude that there is a statistically significant difference\n",
    "#  in mean exam scores between the two groups.\n",
    "\n",
    "#Note that the two sample sizes in this example were equal,\n",
    "#but Welch’s t-test still works even if the two sample sizes are not equal."
   ]
  },
  {
   "cell_type": "markdown",
   "metadata": {},
   "source": [
    "## One Way Anova"
   ]
  },
  {
   "cell_type": "code",
   "execution_count": 22,
   "metadata": {},
   "outputs": [
    {
     "data": {
      "text/plain": [
       "F_onewayResult(statistic=2.3575322551335636, pvalue=0.11384795345837218)"
      ]
     },
     "execution_count": 22,
     "metadata": {},
     "output_type": "execute_result"
    }
   ],
   "source": [
    "from scipy.stats import f_oneway\n",
    "group1 = [85, 86, 88, 75, 78, 94, 98, 79, 71, 80]\n",
    "group2 = [91, 92, 93, 85, 87, 84, 82, 88, 95, 96]\n",
    "group3 = [79, 78, 88, 94, 92, 85, 83, 85, 82, 81]\n",
    "\n",
    "# Perform one way anova\n",
    "f_oneway(group1,group2,group3)\n",
    "#A one-way ANOVA uses the following null and alternative hypotheses:\n",
    "\n",
    "#H0 (null hypothesis): μ1 = μ2 = μ3 = … = μk (all the population means are equal)\n",
    "#H1 (null hypothesis): at least one population mean is different from the rest\n",
    "#The F test statistic is 2.3575 and the corresponding p-value is 0.1138. \n",
    "# Since the p-value is not less than .05, we fail to reject the null hypothesis."
   ]
  }
 ],
 "metadata": {
  "interpreter": {
   "hash": "a25b2d42e0fe57251b6ece2b75d30429fe26895efea1faac6949f166a7477be7"
  },
  "kernelspec": {
   "display_name": "Python 3.10.1 64-bit",
   "language": "python",
   "name": "python3"
  },
  "language_info": {
   "codemirror_mode": {
    "name": "ipython",
    "version": 3
   },
   "file_extension": ".py",
   "mimetype": "text/x-python",
   "name": "python",
   "nbconvert_exporter": "python",
   "pygments_lexer": "ipython3",
   "version": "3.9.7"
  },
  "orig_nbformat": 4
 },
 "nbformat": 4,
 "nbformat_minor": 2
}
