{
 "cells": [
  {
   "cell_type": "markdown",
   "metadata": {},
   "source": [
    "## Anova"
   ]
  },
  {
   "cell_type": "code",
   "execution_count": null,
   "metadata": {},
   "outputs": [],
   "source": [
    "#ANOVA tells you if the dependent variable changes according to the level of the independent variable.\n",
    "#For example: Your independent variable is social media use, \n",
    "# and you assign groups to low, medium, \n",
    "# and high levels of social media use to find out if there is a difference in hours of sleep per night."
   ]
  },
  {
   "cell_type": "code",
   "execution_count": 3,
   "metadata": {},
   "outputs": [
    {
     "data": {
      "text/plain": [
       "F_onewayResult(statistic=2.3575322551335636, pvalue=0.11384795345837218)"
      ]
     },
     "execution_count": 3,
     "metadata": {},
     "output_type": "execute_result"
    }
   ],
   "source": [
    "from scipy.stats import f_oneway\n",
    "group1 = [85, 86, 88, 75, 78, 94, 98, 79, 71, 80]\n",
    "group2 = [91, 92, 93, 85, 87, 84, 82, 88, 95, 96]\n",
    "group3 = [79, 78, 88, 94, 92, 85, 83, 85, 82, 81]\n",
    "\n",
    "# Perform one way anova\n",
    "f_oneway(group1,group2,group3)\n",
    "# pvalue is greater than fvalue,we fail to reject the null hypothsis"
   ]
  },
  {
   "cell_type": "markdown",
   "metadata": {},
   "source": [
    "## Ancova"
   ]
  },
  {
   "cell_type": "code",
   "execution_count": null,
   "metadata": {},
   "outputs": [],
   "source": [
    "# Ancova removes any effect of covariates, which are variables you don't want to study.\n",
    "# For-example For example, you might want to study how different levels of teaching skills affect student performance in math; \n",
    "# It may not be possible to randomly\n"
   ]
  },
  {
   "cell_type": "code",
   "execution_count": 10,
   "metadata": {},
   "outputs": [
    {
     "ename": "SyntaxError",
     "evalue": "unmatched '}' (68915666.py, line 10)",
     "output_type": "error",
     "traceback": [
      "\u001b[1;36m  Input \u001b[1;32mIn [10]\u001b[1;36m\u001b[0m\n\u001b[1;33m    85, 81, 83, 88, 79]})\u001b[0m\n\u001b[1;37m                       ^\u001b[0m\n\u001b[1;31mSyntaxError\u001b[0m\u001b[1;31m:\u001b[0m unmatched '}'\n"
     ]
    }
   ],
   "source": [
    "import pingouin import ancova\n",
    "import numpy as np\n",
    "import pandas as pd\n",
    "df = pd.DataFrame({'technique': np.repeat(['A', 'B', 'C'], 5),\n",
    "                   'current_grade': [67, 88, 75, 77, 85,\n",
    "                                     92, 69, 77, 74, 88, \n",
    "                                     96, 91, 88, 82, 80],\n",
    "                   'exam_score': [77, 89, 72, 74, 69,\n",
    "                                  78, 88, 93, 94, 90,\n",
    "                                  85, 81, 83, 88, 79]})\n",
    "                                  \n",
    "                                  "
   ]
  },
  {
   "cell_type": "code",
   "execution_count": 12,
   "metadata": {},
   "outputs": [
    {
     "data": {
      "text/html": [
       "<div>\n",
       "<style scoped>\n",
       "    .dataframe tbody tr th:only-of-type {\n",
       "        vertical-align: middle;\n",
       "    }\n",
       "\n",
       "    .dataframe tbody tr th {\n",
       "        vertical-align: top;\n",
       "    }\n",
       "\n",
       "    .dataframe thead th {\n",
       "        text-align: right;\n",
       "    }\n",
       "</style>\n",
       "<table border=\"1\" class=\"dataframe\">\n",
       "  <thead>\n",
       "    <tr style=\"text-align: right;\">\n",
       "      <th></th>\n",
       "      <th>Source</th>\n",
       "      <th>SS</th>\n",
       "      <th>DF</th>\n",
       "      <th>F</th>\n",
       "      <th>p-unc</th>\n",
       "      <th>np2</th>\n",
       "    </tr>\n",
       "  </thead>\n",
       "  <tbody>\n",
       "    <tr>\n",
       "      <th>0</th>\n",
       "      <td>technique</td>\n",
       "      <td>390.575130</td>\n",
       "      <td>2</td>\n",
       "      <td>4.809973</td>\n",
       "      <td>0.031556</td>\n",
       "      <td>0.466536</td>\n",
       "    </tr>\n",
       "    <tr>\n",
       "      <th>1</th>\n",
       "      <td>current_grade</td>\n",
       "      <td>4.193886</td>\n",
       "      <td>1</td>\n",
       "      <td>0.103296</td>\n",
       "      <td>0.753934</td>\n",
       "      <td>0.009303</td>\n",
       "    </tr>\n",
       "    <tr>\n",
       "      <th>2</th>\n",
       "      <td>Residual</td>\n",
       "      <td>446.606114</td>\n",
       "      <td>11</td>\n",
       "      <td>NaN</td>\n",
       "      <td>NaN</td>\n",
       "      <td>NaN</td>\n",
       "    </tr>\n",
       "  </tbody>\n",
       "</table>\n",
       "</div>"
      ],
      "text/plain": [
       "          Source          SS  DF         F     p-unc       np2\n",
       "0      technique  390.575130   2  4.809973  0.031556  0.466536\n",
       "1  current_grade    4.193886   1  0.103296  0.753934  0.009303\n",
       "2       Residual  446.606114  11       NaN       NaN       NaN"
      ]
     },
     "execution_count": 12,
     "metadata": {},
     "output_type": "execute_result"
    }
   ],
   "source": [
    "import numpy as np\n",
    "from pingouin import ancova\n",
    "import pandas as pd\n",
    "df = pd.DataFrame({'technique': np.repeat(['A', 'B', 'C'], 5),\n",
    "                   'current_grade': [67, 88, 75, 77, 85,\n",
    "                                     92, 69, 77, 74, 88, \n",
    "                                     96, 91, 88, 82, 80],\n",
    "                   'exam_score': [77, 89, 72, 74, 69,\n",
    "                                  78, 88, 93, 94, 90,\n",
    "                                  85, 81, 83, 88, 79]})\n",
    "                                  #perform ANCOVA\n",
    "ancova(data=df, dv='exam_score', covar='current_grade', between='technique')\n",
    "# p_value 0.03 is less than 0.05,we can reject the null hypothesis.\n"
   ]
  },
  {
   "cell_type": "markdown",
   "metadata": {},
   "source": [
    "## Manova"
   ]
  },
  {
   "cell_type": "code",
   "execution_count": null,
   "metadata": {},
   "outputs": [],
   "source": [
    "# Manova stands for multivariate analysis of variance. \n",
    "# It tests if there is a significant difference between the means of multiple groups.\n",
    "#  The dependent variables are continuous and the independent variables are categorical."
   ]
  },
  {
   "cell_type": "code",
   "execution_count": 25,
   "metadata": {},
   "outputs": [
    {
     "data": {
      "text/html": [
       "<div>\n",
       "<style scoped>\n",
       "    .dataframe tbody tr th:only-of-type {\n",
       "        vertical-align: middle;\n",
       "    }\n",
       "\n",
       "    .dataframe tbody tr th {\n",
       "        vertical-align: top;\n",
       "    }\n",
       "\n",
       "    .dataframe thead th {\n",
       "        text-align: right;\n",
       "    }\n",
       "</style>\n",
       "<table border=\"1\" class=\"dataframe\">\n",
       "  <thead>\n",
       "    <tr style=\"text-align: right;\">\n",
       "      <th></th>\n",
       "      <th>Treatment</th>\n",
       "      <th>Height</th>\n",
       "      <th>Width</th>\n",
       "      <th>Weight</th>\n",
       "    </tr>\n",
       "  </thead>\n",
       "  <tbody>\n",
       "    <tr>\n",
       "      <th>0</th>\n",
       "      <td>1</td>\n",
       "      <td>15.8</td>\n",
       "      <td>3.9</td>\n",
       "      <td>29.4</td>\n",
       "    </tr>\n",
       "    <tr>\n",
       "      <th>1</th>\n",
       "      <td>1</td>\n",
       "      <td>15.1</td>\n",
       "      <td>3.8</td>\n",
       "      <td>29.9</td>\n",
       "    </tr>\n",
       "    <tr>\n",
       "      <th>2</th>\n",
       "      <td>1</td>\n",
       "      <td>14.8</td>\n",
       "      <td>4.1</td>\n",
       "      <td>30.2</td>\n",
       "    </tr>\n",
       "    <tr>\n",
       "      <th>3</th>\n",
       "      <td>1</td>\n",
       "      <td>14.4</td>\n",
       "      <td>4.7</td>\n",
       "      <td>30.1</td>\n",
       "    </tr>\n",
       "    <tr>\n",
       "      <th>4</th>\n",
       "      <td>1</td>\n",
       "      <td>15.1</td>\n",
       "      <td>3.7</td>\n",
       "      <td>30.9</td>\n",
       "    </tr>\n",
       "    <tr>\n",
       "      <th>5</th>\n",
       "      <td>2</td>\n",
       "      <td>15.7</td>\n",
       "      <td>4.8</td>\n",
       "      <td>31.2</td>\n",
       "    </tr>\n",
       "    <tr>\n",
       "      <th>6</th>\n",
       "      <td>2</td>\n",
       "      <td>15.9</td>\n",
       "      <td>4.3</td>\n",
       "      <td>31.4</td>\n",
       "    </tr>\n",
       "    <tr>\n",
       "      <th>7</th>\n",
       "      <td>2</td>\n",
       "      <td>15.4</td>\n",
       "      <td>4.5</td>\n",
       "      <td>31.8</td>\n",
       "    </tr>\n",
       "    <tr>\n",
       "      <th>8</th>\n",
       "      <td>2</td>\n",
       "      <td>16.7</td>\n",
       "      <td>5.4</td>\n",
       "      <td>32.4</td>\n",
       "    </tr>\n",
       "    <tr>\n",
       "      <th>9</th>\n",
       "      <td>2</td>\n",
       "      <td>16.9</td>\n",
       "      <td>5.8</td>\n",
       "      <td>32.6</td>\n",
       "    </tr>\n",
       "    <tr>\n",
       "      <th>10</th>\n",
       "      <td>3</td>\n",
       "      <td>16.5</td>\n",
       "      <td>5.4</td>\n",
       "      <td>33.2</td>\n",
       "    </tr>\n",
       "    <tr>\n",
       "      <th>11</th>\n",
       "      <td>3</td>\n",
       "      <td>16.9</td>\n",
       "      <td>5.8</td>\n",
       "      <td>33.4</td>\n",
       "    </tr>\n",
       "    <tr>\n",
       "      <th>12</th>\n",
       "      <td>3</td>\n",
       "      <td>17.1</td>\n",
       "      <td>6.4</td>\n",
       "      <td>33.1</td>\n",
       "    </tr>\n",
       "    <tr>\n",
       "      <th>13</th>\n",
       "      <td>3</td>\n",
       "      <td>17.3</td>\n",
       "      <td>4.2</td>\n",
       "      <td>32.9</td>\n",
       "    </tr>\n",
       "    <tr>\n",
       "      <th>14</th>\n",
       "      <td>3</td>\n",
       "      <td>17.5</td>\n",
       "      <td>6.7</td>\n",
       "      <td>33.1</td>\n",
       "    </tr>\n",
       "  </tbody>\n",
       "</table>\n",
       "</div>"
      ],
      "text/plain": [
       "    Treatment  Height  Width  Weight\n",
       "0           1    15.8    3.9    29.4\n",
       "1           1    15.1    3.8    29.9\n",
       "2           1    14.8    4.1    30.2\n",
       "3           1    14.4    4.7    30.1\n",
       "4           1    15.1    3.7    30.9\n",
       "5           2    15.7    4.8    31.2\n",
       "6           2    15.9    4.3    31.4\n",
       "7           2    15.4    4.5    31.8\n",
       "8           2    16.7    5.4    32.4\n",
       "9           2    16.9    5.8    32.6\n",
       "10          3    16.5    5.4    33.2\n",
       "11          3    16.9    5.8    33.4\n",
       "12          3    17.1    6.4    33.1\n",
       "13          3    17.3    4.2    32.9\n",
       "14          3    17.5    6.7    33.1"
      ]
     },
     "execution_count": 25,
     "metadata": {},
     "output_type": "execute_result"
    }
   ],
   "source": [
    "import pandas as pd\n",
    "import boto\n",
    "\n",
    "# import the csv file directly from an s3 bucket\n",
    "data = pd.read_csv('s3://articledatas3/manova_data_plant_growth.csv')\n",
    "data\n"
   ]
  },
  {
   "cell_type": "code",
   "execution_count": 26,
   "metadata": {},
   "outputs": [
    {
     "name": "stdout",
     "output_type": "stream",
     "text": [
      "                    Multivariate linear model\n",
      "=================================================================\n",
      "                                                                 \n",
      "-----------------------------------------------------------------\n",
      "       Intercept          Value   Num DF  Den DF  F Value  Pr > F\n",
      "-----------------------------------------------------------------\n",
      "          Wilks' lambda    0.0005 3.0000 10.0000 6374.4483 0.0000\n",
      "         Pillai's trace    0.9995 3.0000 10.0000 6374.4483 0.0000\n",
      " Hotelling-Lawley trace 1912.3345 3.0000 10.0000 6374.4483 0.0000\n",
      "    Roy's greatest root 1912.3345 3.0000 10.0000 6374.4483 0.0000\n",
      "-----------------------------------------------------------------\n",
      "                                                                 \n",
      "------------------------------------------------------------------\n",
      "        Treatment         Value   Num DF   Den DF  F Value  Pr > F\n",
      "------------------------------------------------------------------\n",
      "           Wilks' lambda  0.0922  6.0000  20.0000   7.6444  0.0002\n",
      "          Pillai's trace  0.9167  6.0000  22.0000   3.1030  0.0234\n",
      "  Hotelling-Lawley trace  9.7489  6.0000  11.7143  15.6747  0.0001\n",
      "     Roy's greatest root  9.7390  3.0000  11.0000  35.7095  0.0000\n",
      "=================================================================\n",
      "\n"
     ]
    }
   ],
   "source": [
    "from statsmodels.multivariate.manova import MANOVA\n",
    "\n",
    "# add the intercept\n",
    "data['Treatment'] = ['trt ' + str(x) for x in data['Treatment']]\n",
    "\n",
    "# fit manova\n",
    "manova_result = MANOVA.from_formula('Height + Width + Weight ~ Treatment', data)\n",
    "print(manova_result.mv_test())\n",
    "\n",
    "#The p-values are shown in the right column and are all inferior to 0.05, \n",
    "#which confirms that treatment has an impact on plant growth."
   ]
  },
  {
   "cell_type": "markdown",
   "metadata": {},
   "source": [
    "## Variance"
   ]
  },
  {
   "cell_type": "code",
   "execution_count": null,
   "metadata": {},
   "outputs": [],
   "source": [
    "#The variance is a measure of variability. It is calculated by taking the average of squared deviations from the mean. \n",
    "#Variance tells you the degree of spread in your data set."
   ]
  },
  {
   "cell_type": "code",
   "execution_count": 27,
   "metadata": {},
   "outputs": [
    {
     "name": "stdout",
     "output_type": "stream",
     "text": [
      "108.81632653061224\n"
     ]
    }
   ],
   "source": [
    "import numpy as np\n",
    "\n",
    "dataset= [21, 11, 19, 18, 29, 46, 20]\n",
    "\n",
    "variance= np.var(dataset)\n",
    "\n",
    "print(variance)"
   ]
  },
  {
   "cell_type": "markdown",
   "metadata": {},
   "source": [
    "## Co-Variance"
   ]
  },
  {
   "cell_type": "code",
   "execution_count": null,
   "metadata": {},
   "outputs": [],
   "source": [
    "#Covariance is a measure of how much two random variables vary together.\n",
    "# It's similar to variance, but where variance tells you how a single variable varies, co variance tells you how two variables vary together.\n",
    "# Types\n",
    "#Positive Covariance.\n",
    "#Negative Covariance."
   ]
  },
  {
   "cell_type": "code",
   "execution_count": 28,
   "metadata": {},
   "outputs": [
    {
     "data": {
      "text/plain": [
       "array([[ 64.96,  33.2 , -24.44],\n",
       "       [ 33.2 ,  56.4 , -24.1 ],\n",
       "       [-24.44, -24.1 ,  75.56]])"
      ]
     },
     "execution_count": 28,
     "metadata": {},
     "output_type": "execute_result"
    }
   ],
   "source": [
    "import numpy as np\n",
    "\n",
    "math = [84, 82, 81, 89, 73, 94, 92, 70, 88, 95]\n",
    "english = [85, 82, 72, 77, 75, 89, 95, 84, 77, 94]\n",
    "bio = [97, 94, 93, 95, 88, 82, 78, 84, 69, 78]\n",
    "\n",
    "data = np.array([math, english, bio])\n",
    "np.cov(data,bias=True)\n",
    "#The variance of the math scores is 64.96\n",
    "#The variance of the english scores is 56.4\n",
    "#The variance of the bio scores is 75.56\n",
    "#The covariance between the math and english is 33.2\n",
    "#The covariance between the math and bio score is -24.44\n",
    "#The covariance between the english and bio score is -24.1\n"
   ]
  },
  {
   "cell_type": "markdown",
   "metadata": {},
   "source": [
    "## Co-variate"
   ]
  },
  {
   "cell_type": "code",
   "execution_count": null,
   "metadata": {},
   "outputs": [],
   "source": [
    "#any of two or more random variables exhibiting correlated variation\n",
    "#Variables that affect a response variable, but are not of interest in a study. "
   ]
  },
  {
   "cell_type": "markdown",
   "metadata": {},
   "source": [
    "## Standard devition"
   ]
  },
  {
   "cell_type": "code",
   "execution_count": null,
   "metadata": {},
   "outputs": [],
   "source": [
    "#The standard deviation measures the spread of the data about the mean value. \n",
    "# It is useful in comparing sets of data which may have the same mean but a different range."
   ]
  },
  {
   "cell_type": "code",
   "execution_count": 30,
   "metadata": {},
   "outputs": [
    {
     "name": "stdout",
     "output_type": "stream",
     "text": [
      "Standard Deviation of sample is 1.5811388300841898 \n"
     ]
    }
   ],
   "source": [
    "import statistics\n",
    "# Python code to demonstrate stdev() function\n",
    " \n",
    " \n",
    "# creating a simple data - set\n",
    "sample = [1, 2, 3, 4, 5]\n",
    " \n",
    "# Prints standard deviation\n",
    "# xbar is set to default value of 1\n",
    "print(\"Standard Deviation of sample is % s \"\n",
    "                % (statistics.stdev(sample)))"
   ]
  },
  {
   "cell_type": "markdown",
   "metadata": {},
   "source": [
    "## Standard error of the mean vs Standard deviation\n"
   ]
  },
  {
   "cell_type": "code",
   "execution_count": null,
   "metadata": {},
   "outputs": [],
   "source": [
    "#The standard deviation (SD) measures the amount of variability, or dispersion,\n",
    "# from the individual data values to the mean,"
   ]
  },
  {
   "cell_type": "code",
   "execution_count": null,
   "metadata": {},
   "outputs": [],
   "source": [
    "#the standard error of the mean (SEM) measures how far the sample mean \n",
    "# (average) of the data is likely to be from the true population mean. \n",
    "# The SEM is always smaller than the SD."
   ]
  },
  {
   "cell_type": "markdown",
   "metadata": {},
   "source": [
    "## Confidence Interval"
   ]
  },
  {
   "cell_type": "code",
   "execution_count": null,
   "metadata": {},
   "outputs": [],
   "source": [
    "#a range of values so defined that there is a specified probability \n",
    "# that the value of a parameter lies within it.\n",
    "#Formula\n",
    "#CI = \\bar{x} \\pm z \\frac{s}{\\sqrt{n}}\n",
    "#CI\t=\tconfidence interval\n",
    "#\\bar{x}\t=\tsample mean\n",
    "#z\t=\tconfidence level value\n",
    "#{s}\t=\tsample standard deviation\n",
    "#{n}\t=\tsample size\n"
   ]
  },
  {
   "cell_type": "code",
   "execution_count": 33,
   "metadata": {},
   "outputs": [
    {
     "data": {
      "text/plain": [
       "(16.75776979778498, 24.042230202215016)"
      ]
     },
     "execution_count": 33,
     "metadata": {},
     "output_type": "execute_result"
    }
   ],
   "source": [
    "import scipy.stats as st\n",
    "import numpy as np\n",
    "\n",
    "data = [12, 12, 13, 13, 15, 16, 17, 22, 23, 25, 26, 27, 28, 28, 29]\n",
    "\n",
    "#create 95% confidence interval for population mean weight\n",
    "st.t.interval(alpha=0.95, df=len(data)-1, loc=np.mean(data), scale=st.sem(data)) "
   ]
  },
  {
   "cell_type": "markdown",
   "metadata": {},
   "source": [
    "## Alpha"
   ]
  },
  {
   "cell_type": "code",
   "execution_count": null,
   "metadata": {},
   "outputs": [],
   "source": [
    "# Alpha is a threshold value used to judge whether\n",
    "# a test statistic is statistically significant. \n",
    "# it can range from 0 to 1."
   ]
  },
  {
   "cell_type": "code",
   "execution_count": 1,
   "metadata": {},
   "outputs": [
    {
     "ename": "IndentationError",
     "evalue": "unexpected indent (Temp/ipykernel_11364/4025897672.py, line 6)",
     "output_type": "error",
     "traceback": [
      "\u001b[1;36m  File \u001b[1;32m\"C:\\Users\\hp\\AppData\\Local\\Temp/ipykernel_11364/4025897672.py\"\u001b[1;36m, line \u001b[1;32m6\u001b[0m\n\u001b[1;33m    pg.cronbach_alpha(data=df)\u001b[0m\n\u001b[1;37m    ^\u001b[0m\n\u001b[1;31mIndentationError\u001b[0m\u001b[1;31m:\u001b[0m unexpected indent\n"
     ]
    }
   ],
   "source": [
    "import pandas as pd\n",
    "import pingouin as pg\n",
    "df = pd.DataFrame({'Q1': [1, 2, 2, 3, 2, 2, 3, 3, 2, 3],\n",
    "                   'Q2': [1, 1, 1, 2, 3, 3, 2, 3, 3, 3],\n",
    "                   'Q3': [1, 1, 2, 1, 2, 3, 3, 3, 2, 3]})\n",
    "                   pg.cronbach_alpha(data=df)"
   ]
  }
 ],
 "metadata": {
  "interpreter": {
   "hash": "a25b2d42e0fe57251b6ece2b75d30429fe26895efea1faac6949f166a7477be7"
  },
  "kernelspec": {
   "display_name": "Python 3.10.1 64-bit",
   "language": "python",
   "name": "python3"
  },
  "language_info": {
   "codemirror_mode": {
    "name": "ipython",
    "version": 3
   },
   "file_extension": ".py",
   "mimetype": "text/x-python",
   "name": "python",
   "nbconvert_exporter": "python",
   "pygments_lexer": "ipython3",
   "version": "3.9.7"
  },
  "orig_nbformat": 4
 },
 "nbformat": 4,
 "nbformat_minor": 2
}
